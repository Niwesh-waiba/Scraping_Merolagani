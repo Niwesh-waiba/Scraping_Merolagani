{
 "cells": [
  {
   "cell_type": "code",
   "execution_count": 1,
   "metadata": {},
   "outputs": [
    {
     "name": "stdout",
     "output_type": "stream",
     "text": [
      "Defaulting to user installation because normal site-packages is not writeable\n",
      "Requirement already satisfied: lxml in d:\\users\\newac\\appdata\\local\\packages\\pythonsoftwarefoundation.python.3.12_qbz5n2kfra8p0\\localcache\\local-packages\\python312\\site-packages (5.3.0)\n"
     ]
    },
    {
     "name": "stderr",
     "output_type": "stream",
     "text": [
      "\n",
      "[notice] A new release of pip is available: 24.2 -> 24.3.1\n",
      "[notice] To update, run: D:\\Users\\newac\\AppData\\Local\\Microsoft\\WindowsApps\\PythonSoftwareFoundation.Python.3.12_qbz5n2kfra8p0\\python.exe -m pip install --upgrade pip\n"
     ]
    }
   ],
   "source": [
    "!pip install lxml"
   ]
  },
  {
   "cell_type": "code",
   "execution_count": 4,
   "metadata": {},
   "outputs": [
    {
     "name": "stdout",
     "output_type": "stream",
     "text": [
      "    Symbol       LTP % Change      Open      High       Low    Qty. PClose  \\\n",
      "0   ACLBSL  1,056.00     2.11  1,062.00  1,025.30  1,025.30   1,533          \n",
      "1     ADBL    366.10    -0.11    369.50    363.10    369.50  32,031          \n",
      "2  ADBLD83  1,115.00     1.99  1,115.00  1,115.00  1,115.00      50          \n",
      "3      AHL    684.00     0.59    684.00    673.20    679.00   3,733          \n",
      "4     AHPC    274.10    -1.01    279.00    272.60    279.00  81,329          \n",
      "\n",
      "  Diff.    \n",
      "0          \n",
      "1          \n",
      "2          \n",
      "3          \n",
      "4          \n"
     ]
    }
   ],
   "source": [
    "import pandas as pd\n",
    "\n",
    "import requests\n",
    "from bs4 import BeautifulSoup\n",
    "\n",
    "# Site URL\n",
    "url = \"https://merolagani.com/LatestMarket.aspx\"\n",
    "\n",
    "# Make a GET request to fetch the raw HTML data\n",
    "con = requests.get(url)\n",
    "\n",
    "# Parse the HTML using BeautifulSoup with 'html.parser' (this is built into Python)\n",
    "soup = BeautifulSoup(con.text, 'html.parser')  # Use 'html.parser' instead of 'lxml'\n",
    "\n",
    "# Find the table containing the market data\n",
    "table = soup.find('table', class_='table table-hover live-trading sortable')\n",
    "\n",
    "# Get the headers from the table (e.g., Symbol, LTP, etc.)\n",
    "headers = [header.text.strip() for header in table.find_all('th')]\n",
    "\n",
    "# Extract the rows (tr) of the table\n",
    "rows = table.find_all('tr', class_=[\"increase-row\", \"decrease-row\", \"nochange-row\"])\n",
    "\n",
    "# Parse the data inside each row and store it in a dictionary format\n",
    "result = []\n",
    "for row in rows:\n",
    "    cols = row.find_all('td')\n",
    "    data = {\n",
    "        headers[i]: cols[i].text.strip() if i < len(cols) else '' \n",
    "        for i in range(len(headers))\n",
    "    }\n",
    "    result.append(data)\n",
    "\n",
    "# Print the result\n",
    "# for entry in result:\n",
    "#     print(entry)\n",
    "\n",
    "\n",
    "\n",
    "df = pd.DataFrame(result)\n",
    "\n",
    "# Display the DataFrame\n",
    "print(df.head())\n",
    "\n",
    "df.to_csv('ScrapedData.csv',index=False )"
   ]
  }
 ],
 "metadata": {
  "kernelspec": {
   "display_name": "Python 3",
   "language": "python",
   "name": "python3"
  },
  "language_info": {
   "codemirror_mode": {
    "name": "ipython",
    "version": 3
   },
   "file_extension": ".py",
   "mimetype": "text/x-python",
   "name": "python",
   "nbconvert_exporter": "python",
   "pygments_lexer": "ipython3",
   "version": "3.12.7"
  }
 },
 "nbformat": 4,
 "nbformat_minor": 2
}
